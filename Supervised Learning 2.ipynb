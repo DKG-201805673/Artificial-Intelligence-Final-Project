{
 "cells": [
  {
   "cell_type": "code",
   "execution_count": 1,
   "id": "06927e55",
   "metadata": {},
   "outputs": [
    {
     "data": {
      "text/html": [
       "<div>\n",
       "<style scoped>\n",
       "    .dataframe tbody tr th:only-of-type {\n",
       "        vertical-align: middle;\n",
       "    }\n",
       "\n",
       "    .dataframe tbody tr th {\n",
       "        vertical-align: top;\n",
       "    }\n",
       "\n",
       "    .dataframe thead th {\n",
       "        text-align: right;\n",
       "    }\n",
       "</style>\n",
       "<table border=\"1\" class=\"dataframe\">\n",
       "  <thead>\n",
       "    <tr style=\"text-align: right;\">\n",
       "      <th></th>\n",
       "      <th>Age</th>\n",
       "      <th>Sex</th>\n",
       "      <th>ChestPainType</th>\n",
       "      <th>RestingBP</th>\n",
       "      <th>Cholesterol</th>\n",
       "      <th>FastingBS</th>\n",
       "      <th>RestingECG</th>\n",
       "      <th>MaxHR</th>\n",
       "      <th>ExerciseAngina</th>\n",
       "      <th>Oldpeak</th>\n",
       "      <th>ST_Slope</th>\n",
       "      <th>HeartDisease</th>\n",
       "    </tr>\n",
       "  </thead>\n",
       "  <tbody>\n",
       "    <tr>\n",
       "      <th>433</th>\n",
       "      <td>46</td>\n",
       "      <td>M</td>\n",
       "      <td>ASY</td>\n",
       "      <td>110</td>\n",
       "      <td>236</td>\n",
       "      <td>0</td>\n",
       "      <td>Normal</td>\n",
       "      <td>125</td>\n",
       "      <td>Y</td>\n",
       "      <td>2.0</td>\n",
       "      <td>Flat</td>\n",
       "      <td>1</td>\n",
       "    </tr>\n",
       "    <tr>\n",
       "      <th>888</th>\n",
       "      <td>52</td>\n",
       "      <td>M</td>\n",
       "      <td>ASY</td>\n",
       "      <td>128</td>\n",
       "      <td>204</td>\n",
       "      <td>1</td>\n",
       "      <td>Normal</td>\n",
       "      <td>156</td>\n",
       "      <td>Y</td>\n",
       "      <td>1.0</td>\n",
       "      <td>Flat</td>\n",
       "      <td>1</td>\n",
       "    </tr>\n",
       "    <tr>\n",
       "      <th>171</th>\n",
       "      <td>40</td>\n",
       "      <td>M</td>\n",
       "      <td>NAP</td>\n",
       "      <td>140</td>\n",
       "      <td>235</td>\n",
       "      <td>0</td>\n",
       "      <td>Normal</td>\n",
       "      <td>188</td>\n",
       "      <td>N</td>\n",
       "      <td>0.0</td>\n",
       "      <td>Up</td>\n",
       "      <td>0</td>\n",
       "    </tr>\n",
       "    <tr>\n",
       "      <th>62</th>\n",
       "      <td>45</td>\n",
       "      <td>M</td>\n",
       "      <td>ASY</td>\n",
       "      <td>140</td>\n",
       "      <td>224</td>\n",
       "      <td>0</td>\n",
       "      <td>Normal</td>\n",
       "      <td>144</td>\n",
       "      <td>N</td>\n",
       "      <td>0.0</td>\n",
       "      <td>Up</td>\n",
       "      <td>0</td>\n",
       "    </tr>\n",
       "    <tr>\n",
       "      <th>709</th>\n",
       "      <td>52</td>\n",
       "      <td>M</td>\n",
       "      <td>ASY</td>\n",
       "      <td>125</td>\n",
       "      <td>212</td>\n",
       "      <td>0</td>\n",
       "      <td>Normal</td>\n",
       "      <td>168</td>\n",
       "      <td>N</td>\n",
       "      <td>1.0</td>\n",
       "      <td>Up</td>\n",
       "      <td>1</td>\n",
       "    </tr>\n",
       "  </tbody>\n",
       "</table>\n",
       "</div>"
      ],
      "text/plain": [
       "     Age Sex ChestPainType  RestingBP  Cholesterol  FastingBS RestingECG  \\\n",
       "433   46   M           ASY        110          236          0     Normal   \n",
       "888   52   M           ASY        128          204          1     Normal   \n",
       "171   40   M           NAP        140          235          0     Normal   \n",
       "62    45   M           ASY        140          224          0     Normal   \n",
       "709   52   M           ASY        125          212          0     Normal   \n",
       "\n",
       "     MaxHR ExerciseAngina  Oldpeak ST_Slope  HeartDisease  \n",
       "433    125              Y      2.0     Flat             1  \n",
       "888    156              Y      1.0     Flat             1  \n",
       "171    188              N      0.0       Up             0  \n",
       "62     144              N      0.0       Up             0  \n",
       "709    168              N      1.0       Up             1  "
      ]
     },
     "execution_count": 1,
     "metadata": {},
     "output_type": "execute_result"
    }
   ],
   "source": [
    "import numpy as np\n",
    "import pandas as pd\n",
    "\n",
    "df = pd.read_csv('heart.csv')\n",
    "df.sample(5)"
   ]
  },
  {
   "cell_type": "code",
   "execution_count": 2,
   "id": "bf409fc7",
   "metadata": {},
   "outputs": [],
   "source": [
    "#Need to split data into training set and testing set\n",
    "from sklearn.model_selection import train_test_split\n",
    "\n",
    "X = df.drop('HeartDisease', axis=1)\n",
    "Y = df['HeartDisease']\n",
    "\n",
    "X_train, X_test, Y_train, Y_test = train_test_split(\n",
    "    X, Y, \n",
    "    test_size=0.2, random_state=42\n",
    ")"
   ]
  },
  {
   "cell_type": "code",
   "execution_count": 3,
   "id": "eb02a158",
   "metadata": {},
   "outputs": [],
   "source": [
    "import functools\n",
    "import tensorflow as tf\n",
    "\n",
    "LABEL_COLUMN = 'HeartDisease'\n",
    "LABELS = [0, 12]\n",
    "\n",
    "def get_dataset(file_path, **kwargs):\n",
    "    dataset = tf.data.experimental.make_csv_dataset(\n",
    "        file_path,\n",
    "        batch_size=5, # Artificially small to make examples easier to show.\n",
    "        label_name=LABEL_COLUMN,\n",
    "        na_value=\"?\",\n",
    "        num_epochs=1,\n",
    "        ignore_errors=True, \n",
    "        **kwargs)\n",
    "    return dataset\n",
    "\n",
    "raw_training_data = get_dataset(\"heart.csv\")\n",
    "raw_testing_data = get_dataset(\"heart.csv\")"
   ]
  },
  {
   "cell_type": "code",
   "execution_count": 4,
   "id": "d7ea1bd6",
   "metadata": {},
   "outputs": [],
   "source": [
    "def show_batch(dataset):\n",
    "      for batch, label in dataset.take(1):\n",
    "        for key, value in batch.items():\n",
    "              print(\"{:20s}: {}\".format(key,value.numpy()))"
   ]
  },
  {
   "cell_type": "code",
   "execution_count": 5,
   "id": "4eaa32c1",
   "metadata": {},
   "outputs": [
    {
     "name": "stdout",
     "output_type": "stream",
     "text": [
      "Age                 : [63 65 53 68 42]\n",
      "Sex                 : [b'M' b'M' b'M' b'M' b'M']\n",
      "ChestPainType       : [b'ASY' b'ASY' b'ASY' b'NAP' b'ATA']\n",
      "RestingBP           : [140 136 125 180 120]\n",
      "Cholesterol         : [  0 248   0 274 196]\n",
      "FastingBS           : [1 0 1 1 0]\n",
      "RestingECG          : [b'LVH' b'Normal' b'Normal' b'LVH' b'Normal']\n",
      "MaxHR               : [149 140 120 150 150]\n",
      "ExerciseAngina      : [b'N' b'Y' b'N' b'Y' b'N']\n",
      "Oldpeak             : [2.  4.  1.5 1.6 0. ]\n",
      "ST_Slope            : [b'Up' b'Down' b'Up' b'Flat' b'Up']\n"
     ]
    }
   ],
   "source": [
    "show_batch(raw_training_data)"
   ]
  },
  {
   "cell_type": "code",
   "execution_count": 6,
   "id": "f049810e",
   "metadata": {},
   "outputs": [],
   "source": [
    "class PackNumericFeatures(object):\n",
    "    def __init__(self, names):\n",
    "        self.names = names\n",
    "\n",
    "    def __call__(self, features, labels):\n",
    "        numeric_features = [features.pop(name) for name in self.names]\n",
    "        numeric_features = [tf.cast(feat, tf.float32) for feat in numeric_features]\n",
    "        numeric_features = tf.stack(numeric_features, axis=-1)\n",
    "        features['numeric'] = numeric_features\n",
    "\n",
    "        return features, labels"
   ]
  },
  {
   "cell_type": "code",
   "execution_count": 7,
   "id": "a6f368e9",
   "metadata": {},
   "outputs": [
    {
     "name": "stdout",
     "output_type": "stream",
     "text": [
      "WARNING:tensorflow:AutoGraph could not transform <__main__.PackNumericFeatures object at 0x00000233DBADA460> and will run it as-is.\n",
      "Please report this to the TensorFlow team. When filing the bug, set the verbosity to 10 (on Linux, `export AUTOGRAPH_VERBOSITY=10`) and attach the full output.\n",
      "Cause: module 'gast' has no attribute 'Index'\n",
      "To silence this warning, decorate the function with @tf.autograph.experimental.do_not_convert\n",
      "WARNING: AutoGraph could not transform <__main__.PackNumericFeatures object at 0x00000233DBADA460> and will run it as-is.\n",
      "Please report this to the TensorFlow team. When filing the bug, set the verbosity to 10 (on Linux, `export AUTOGRAPH_VERBOSITY=10`) and attach the full output.\n",
      "Cause: module 'gast' has no attribute 'Index'\n",
      "To silence this warning, decorate the function with @tf.autograph.experimental.do_not_convert\n",
      "WARNING:tensorflow:AutoGraph could not transform <__main__.PackNumericFeatures object at 0x00000233DBADA4F0> and will run it as-is.\n",
      "Please report this to the TensorFlow team. When filing the bug, set the verbosity to 10 (on Linux, `export AUTOGRAPH_VERBOSITY=10`) and attach the full output.\n",
      "Cause: module 'gast' has no attribute 'Index'\n",
      "To silence this warning, decorate the function with @tf.autograph.experimental.do_not_convert\n",
      "WARNING: AutoGraph could not transform <__main__.PackNumericFeatures object at 0x00000233DBADA4F0> and will run it as-is.\n",
      "Please report this to the TensorFlow team. When filing the bug, set the verbosity to 10 (on Linux, `export AUTOGRAPH_VERBOSITY=10`) and attach the full output.\n",
      "Cause: module 'gast' has no attribute 'Index'\n",
      "To silence this warning, decorate the function with @tf.autograph.experimental.do_not_convert\n"
     ]
    }
   ],
   "source": [
    "NUMERIC_FEATURES = ['Age','RestingBP','Cholesterol', 'FastingBS', 'MaxHR', 'Oldpeak']\n",
    "\n",
    "packed_train_data = raw_training_data.map(\n",
    "    PackNumericFeatures(NUMERIC_FEATURES))\n",
    "\n",
    "packed_test_data = raw_testing_data.map(\n",
    "    PackNumericFeatures(NUMERIC_FEATURES))"
   ]
  },
  {
   "cell_type": "code",
   "execution_count": 8,
   "id": "2a38037f",
   "metadata": {},
   "outputs": [
    {
     "name": "stdout",
     "output_type": "stream",
     "text": [
      "Sex                 : [b'F' b'M' b'M' b'M' b'F']\n",
      "ChestPainType       : [b'ATA' b'ASY' b'ASY' b'NAP' b'ATA']\n",
      "RestingECG          : [b'ST' b'LVH' b'LVH' b'Normal' b'Normal']\n",
      "ExerciseAngina      : [b'N' b'Y' b'Y' b'N' b'N']\n",
      "ST_Slope            : [b'Up' b'Flat' b'Down' b'Up' b'Flat']\n",
      "numeric             : [[ 55.  110.  344.    0.  160.    0. ]\n",
      " [ 53.  130.    0.    0.  135.    1. ]\n",
      " [ 59.  170.  326.    0.  140.    3.4]\n",
      " [ 50.  129.  196.    0.  163.    0. ]\n",
      " [ 56.  120.  279.    0.  150.    1. ]]\n"
     ]
    }
   ],
   "source": [
    "show_batch(packed_train_data)"
   ]
  },
  {
   "cell_type": "code",
   "execution_count": 9,
   "id": "ee3c99fe",
   "metadata": {},
   "outputs": [],
   "source": [
    "example_batch, labels_batch = next(iter(packed_train_data)) "
   ]
  },
  {
   "cell_type": "code",
   "execution_count": 10,
   "id": "2c5b3c29",
   "metadata": {},
   "outputs": [],
   "source": [
    "CATEGORIES = {\n",
    "    'Sex': ['M', 'F'],\n",
    "    'ChestPainType' : ['ATA', 'ASY', 'NAP','TA'],\n",
    "    'RestingECG' : ['LVH', 'Normal', 'ST'],\n",
    "    'ExerciseAngina' : ['Y', 'N'],\n",
    "    'ST_Slope' : ['Up', 'Flat','Down']\n",
    "}\n"
   ]
  },
  {
   "cell_type": "code",
   "execution_count": 11,
   "id": "378789e9",
   "metadata": {},
   "outputs": [],
   "source": [
    "categorical_columns = []\n",
    "for feature, vocab in CATEGORIES.items():\n",
    "    cat_col = tf.feature_column.categorical_column_with_vocabulary_list(\n",
    "        key=feature, vocabulary_list=vocab)\n",
    "    categorical_columns.append(tf.feature_column.indicator_column(cat_col))"
   ]
  },
  {
   "cell_type": "code",
   "execution_count": 12,
   "id": "c937bd26",
   "metadata": {},
   "outputs": [
    {
     "data": {
      "text/plain": [
       "[IndicatorColumn(categorical_column=VocabularyListCategoricalColumn(key='Sex', vocabulary_list=('M', 'F'), dtype=tf.string, default_value=-1, num_oov_buckets=0)),\n",
       " IndicatorColumn(categorical_column=VocabularyListCategoricalColumn(key='ChestPainType', vocabulary_list=('ATA', 'ASY', 'NAP', 'TA'), dtype=tf.string, default_value=-1, num_oov_buckets=0)),\n",
       " IndicatorColumn(categorical_column=VocabularyListCategoricalColumn(key='RestingECG', vocabulary_list=('LVH', 'Normal', 'ST'), dtype=tf.string, default_value=-1, num_oov_buckets=0)),\n",
       " IndicatorColumn(categorical_column=VocabularyListCategoricalColumn(key='ExerciseAngina', vocabulary_list=('Y', 'N'), dtype=tf.string, default_value=-1, num_oov_buckets=0)),\n",
       " IndicatorColumn(categorical_column=VocabularyListCategoricalColumn(key='ST_Slope', vocabulary_list=('Up', 'Flat', 'Down'), dtype=tf.string, default_value=-1, num_oov_buckets=0))]"
      ]
     },
     "execution_count": 12,
     "metadata": {},
     "output_type": "execute_result"
    }
   ],
   "source": [
    "categorical_columns"
   ]
  },
  {
   "cell_type": "code",
   "execution_count": 15,
   "id": "4dc7b74c",
   "metadata": {},
   "outputs": [
    {
     "data": {
      "text/html": [
       "<div>\n",
       "<style scoped>\n",
       "    .dataframe tbody tr th:only-of-type {\n",
       "        vertical-align: middle;\n",
       "    }\n",
       "\n",
       "    .dataframe tbody tr th {\n",
       "        vertical-align: top;\n",
       "    }\n",
       "\n",
       "    .dataframe thead th {\n",
       "        text-align: right;\n",
       "    }\n",
       "</style>\n",
       "<table border=\"1\" class=\"dataframe\">\n",
       "  <thead>\n",
       "    <tr style=\"text-align: right;\">\n",
       "      <th></th>\n",
       "      <th>Age</th>\n",
       "      <th>RestingBP</th>\n",
       "      <th>Cholesterol</th>\n",
       "      <th>FastingBS</th>\n",
       "      <th>MaxHR</th>\n",
       "      <th>Oldpeak</th>\n",
       "    </tr>\n",
       "  </thead>\n",
       "  <tbody>\n",
       "    <tr>\n",
       "      <th>count</th>\n",
       "      <td>918.000000</td>\n",
       "      <td>918.000000</td>\n",
       "      <td>918.000000</td>\n",
       "      <td>918.000000</td>\n",
       "      <td>918.000000</td>\n",
       "      <td>918.000000</td>\n",
       "    </tr>\n",
       "    <tr>\n",
       "      <th>mean</th>\n",
       "      <td>53.510893</td>\n",
       "      <td>132.396514</td>\n",
       "      <td>198.799564</td>\n",
       "      <td>0.233115</td>\n",
       "      <td>136.809368</td>\n",
       "      <td>0.887364</td>\n",
       "    </tr>\n",
       "    <tr>\n",
       "      <th>std</th>\n",
       "      <td>9.432617</td>\n",
       "      <td>18.514154</td>\n",
       "      <td>109.384145</td>\n",
       "      <td>0.423046</td>\n",
       "      <td>25.460334</td>\n",
       "      <td>1.066570</td>\n",
       "    </tr>\n",
       "    <tr>\n",
       "      <th>min</th>\n",
       "      <td>28.000000</td>\n",
       "      <td>0.000000</td>\n",
       "      <td>0.000000</td>\n",
       "      <td>0.000000</td>\n",
       "      <td>60.000000</td>\n",
       "      <td>-2.600000</td>\n",
       "    </tr>\n",
       "    <tr>\n",
       "      <th>25%</th>\n",
       "      <td>47.000000</td>\n",
       "      <td>120.000000</td>\n",
       "      <td>173.250000</td>\n",
       "      <td>0.000000</td>\n",
       "      <td>120.000000</td>\n",
       "      <td>0.000000</td>\n",
       "    </tr>\n",
       "    <tr>\n",
       "      <th>50%</th>\n",
       "      <td>54.000000</td>\n",
       "      <td>130.000000</td>\n",
       "      <td>223.000000</td>\n",
       "      <td>0.000000</td>\n",
       "      <td>138.000000</td>\n",
       "      <td>0.600000</td>\n",
       "    </tr>\n",
       "    <tr>\n",
       "      <th>75%</th>\n",
       "      <td>60.000000</td>\n",
       "      <td>140.000000</td>\n",
       "      <td>267.000000</td>\n",
       "      <td>0.000000</td>\n",
       "      <td>156.000000</td>\n",
       "      <td>1.500000</td>\n",
       "    </tr>\n",
       "    <tr>\n",
       "      <th>max</th>\n",
       "      <td>77.000000</td>\n",
       "      <td>200.000000</td>\n",
       "      <td>603.000000</td>\n",
       "      <td>1.000000</td>\n",
       "      <td>202.000000</td>\n",
       "      <td>6.200000</td>\n",
       "    </tr>\n",
       "  </tbody>\n",
       "</table>\n",
       "</div>"
      ],
      "text/plain": [
       "              Age   RestingBP  Cholesterol   FastingBS       MaxHR     Oldpeak\n",
       "count  918.000000  918.000000   918.000000  918.000000  918.000000  918.000000\n",
       "mean    53.510893  132.396514   198.799564    0.233115  136.809368    0.887364\n",
       "std      9.432617   18.514154   109.384145    0.423046   25.460334    1.066570\n",
       "min     28.000000    0.000000     0.000000    0.000000   60.000000   -2.600000\n",
       "25%     47.000000  120.000000   173.250000    0.000000  120.000000    0.000000\n",
       "50%     54.000000  130.000000   223.000000    0.000000  138.000000    0.600000\n",
       "75%     60.000000  140.000000   267.000000    0.000000  156.000000    1.500000\n",
       "max     77.000000  200.000000   603.000000    1.000000  202.000000    6.200000"
      ]
     },
     "execution_count": 15,
     "metadata": {},
     "output_type": "execute_result"
    }
   ],
   "source": [
    "import pandas as pd\n",
    "desc = pd.read_csv('heart.csv')[NUMERIC_FEATURES].describe()\n",
    "desc"
   ]
  },
  {
   "cell_type": "code",
   "execution_count": 16,
   "id": "fbb6d26b",
   "metadata": {},
   "outputs": [],
   "source": [
    "MEAN = np.array(desc.T['mean'])\n",
    "STD = np.array(desc.T['std'])"
   ]
  },
  {
   "cell_type": "code",
   "execution_count": 17,
   "id": "6ef16079",
   "metadata": {},
   "outputs": [],
   "source": [
    "def normalize_numeric_data(data, mean, std):\n",
    "  # Center the data\n",
    "  return (data-mean)/std"
   ]
  },
  {
   "cell_type": "code",
   "execution_count": 18,
   "id": "1c704afe",
   "metadata": {},
   "outputs": [
    {
     "data": {
      "text/plain": [
       "NumericColumn(key='numeric', shape=(6,), default_value=None, dtype=tf.float32, normalizer_fn=functools.partial(<function normalize_numeric_data at 0x00000233E29445E0>, mean=array([ 53.51089325, 132.39651416, 198.79956427,   0.23311547,\n",
       "       136.80936819,   0.88736383]), std=array([  9.43261651,  18.51415412, 109.38414455,   0.42304562,\n",
       "        25.46033414,   1.06657015])))"
      ]
     },
     "execution_count": 18,
     "metadata": {},
     "output_type": "execute_result"
    }
   ],
   "source": [
    "# See what you just created.\n",
    "normalizer = functools.partial(normalize_numeric_data, mean=MEAN, std=STD)\n",
    "\n",
    "numeric_column = tf.feature_column.numeric_column('numeric', normalizer_fn=normalizer, shape=[len(NUMERIC_FEATURES)])\n",
    "numeric_columns = [numeric_column]\n",
    "numeric_column"
   ]
  },
  {
   "cell_type": "code",
   "execution_count": 19,
   "id": "0d877f34",
   "metadata": {},
   "outputs": [
    {
     "data": {
      "text/plain": [
       "<tf.Tensor: shape=(5, 6), dtype=float32, numpy=\n",
       "array([[ 59. , 154. ,   0. ,   0. , 131. ,   1.5],\n",
       "       [ 50. , 170. , 209. ,   0. , 116. ,   0. ],\n",
       "       [ 52. , 140. , 266. ,   0. , 134. ,   2. ],\n",
       "       [ 42. , 150. , 268. ,   0. , 136. ,   0. ],\n",
       "       [ 46. , 180. , 280. ,   0. , 120. ,   0. ]], dtype=float32)>"
      ]
     },
     "execution_count": 19,
     "metadata": {},
     "output_type": "execute_result"
    }
   ],
   "source": [
    "example_batch['numeric']"
   ]
  },
  {
   "cell_type": "code",
   "execution_count": 20,
   "id": "5f9482b1",
   "metadata": {},
   "outputs": [
    {
     "data": {
      "text/plain": [
       "array([[ 0.5819282 ,  1.1668632 , -1.817444  , -0.55104095, -0.22817343,\n",
       "         0.57439834],\n",
       "       [-0.37220794,  2.031067  ,  0.09325336, -0.55104095, -0.8173252 ,\n",
       "        -0.83197886],\n",
       "       [-0.1601777 ,  0.41068497,  0.61435264, -0.55104095, -0.11034309,\n",
       "         1.0431907 ],\n",
       "       [-1.2203289 ,  0.9508123 ,  0.63263685, -0.55104095, -0.03178953,\n",
       "        -0.83197886],\n",
       "       [-0.79626846,  2.5711942 ,  0.74234194, -0.55104095, -0.660218  ,\n",
       "        -0.83197886]], dtype=float32)"
      ]
     },
     "execution_count": 20,
     "metadata": {},
     "output_type": "execute_result"
    }
   ],
   "source": [
    "numeric_layer = tf.keras.layers.DenseFeatures(numeric_columns)\n",
    "numeric_layer(example_batch).numpy()"
   ]
  },
  {
   "cell_type": "code",
   "execution_count": 21,
   "id": "3ea61ae1",
   "metadata": {},
   "outputs": [
    {
     "name": "stdout",
     "output_type": "stream",
     "text": [
      "[0. 1. 0. 0. 1. 0. 0. 0. 1. 1. 0. 0. 1. 0.]\n"
     ]
    }
   ],
   "source": [
    "categorical_layer = tf.keras.layers.DenseFeatures(categorical_columns)\n",
    "print(categorical_layer(example_batch).numpy()[0])"
   ]
  },
  {
   "cell_type": "code",
   "execution_count": 22,
   "id": "036b85b8",
   "metadata": {},
   "outputs": [
    {
     "name": "stdout",
     "output_type": "stream",
     "text": [
      "[ 0.          1.          0.          0.          1.          0.\n",
      "  0.          0.          1.          1.          0.          0.\n",
      "  1.          0.          0.5819282   1.1668632  -1.817444   -0.55104095\n",
      " -0.22817343  0.57439834]\n"
     ]
    }
   ],
   "source": [
    "preprocessing_layer = tf.keras.layers.DenseFeatures(categorical_columns+numeric_columns)\n",
    "\n",
    "print(preprocessing_layer(example_batch).numpy()[0])"
   ]
  },
  {
   "cell_type": "code",
   "execution_count": 23,
   "id": "4e1031b6",
   "metadata": {},
   "outputs": [],
   "source": [
    "model = tf.keras.Sequential([\n",
    "  preprocessing_layer,\n",
    "  tf.keras.layers.Dense(128, activation='relu'),\n",
    "  tf.keras.layers.Dense(128, activation='relu'),\n",
    "  tf.keras.layers.Dense(1),\n",
    "])\n",
    "\n",
    "model.compile(\n",
    "    loss=tf.keras.losses.BinaryCrossentropy(from_logits=True),\n",
    "    optimizer='adam',\n",
    "    metrics=['accuracy'])"
   ]
  },
  {
   "cell_type": "code",
   "execution_count": 24,
   "id": "75ddbb41",
   "metadata": {},
   "outputs": [],
   "source": [
    "train_data = packed_train_data.shuffle(500)\n",
    "test_data = packed_test_data"
   ]
  },
  {
   "cell_type": "code",
   "execution_count": 25,
   "id": "0d8e3e55",
   "metadata": {},
   "outputs": [
    {
     "name": "stdout",
     "output_type": "stream",
     "text": [
      "Epoch 1/20\n",
      "WARNING:tensorflow:Layers in a Sequential model should only have a single input tensor, but we receive a <class 'collections.OrderedDict'> input: OrderedDict([('Sex', <tf.Tensor 'ExpandDims_4:0' shape=(None, 1) dtype=string>), ('ChestPainType', <tf.Tensor 'ExpandDims:0' shape=(None, 1) dtype=string>), ('RestingECG', <tf.Tensor 'ExpandDims_2:0' shape=(None, 1) dtype=string>), ('ExerciseAngina', <tf.Tensor 'ExpandDims_1:0' shape=(None, 1) dtype=string>), ('ST_Slope', <tf.Tensor 'ExpandDims_3:0' shape=(None, 1) dtype=string>), ('numeric', <tf.Tensor 'IteratorGetNext:5' shape=(None, 6) dtype=float32>)])\n",
      "Consider rewriting this model with the Functional API.\n",
      "WARNING:tensorflow:Layers in a Sequential model should only have a single input tensor, but we receive a <class 'collections.OrderedDict'> input: OrderedDict([('Sex', <tf.Tensor 'ExpandDims_4:0' shape=(None, 1) dtype=string>), ('ChestPainType', <tf.Tensor 'ExpandDims:0' shape=(None, 1) dtype=string>), ('RestingECG', <tf.Tensor 'ExpandDims_2:0' shape=(None, 1) dtype=string>), ('ExerciseAngina', <tf.Tensor 'ExpandDims_1:0' shape=(None, 1) dtype=string>), ('ST_Slope', <tf.Tensor 'ExpandDims_3:0' shape=(None, 1) dtype=string>), ('numeric', <tf.Tensor 'IteratorGetNext:5' shape=(None, 6) dtype=float32>)])\n",
      "Consider rewriting this model with the Functional API.\n",
      "184/184 [==============================] - 0s 668us/step - loss: 0.3781 - accuracy: 0.8377\n",
      "Epoch 2/20\n",
      "184/184 [==============================] - 0s 593us/step - loss: 0.3148 - accuracy: 0.8671\n",
      "Epoch 3/20\n",
      "184/184 [==============================] - 0s 587us/step - loss: 0.2919 - accuracy: 0.8802\n",
      "Epoch 4/20\n",
      "184/184 [==============================] - 0s 604us/step - loss: 0.2765 - accuracy: 0.8889\n",
      "Epoch 5/20\n",
      "184/184 [==============================] - 0s 582us/step - loss: 0.2605 - accuracy: 0.8889\n",
      "Epoch 6/20\n",
      "184/184 [==============================] - 0s 582us/step - loss: 0.2468 - accuracy: 0.8922\n",
      "Epoch 7/20\n",
      "184/184 [==============================] - 0s 577us/step - loss: 0.2315 - accuracy: 0.9074\n",
      "Epoch 8/20\n",
      "184/184 [==============================] - 0s 577us/step - loss: 0.2287 - accuracy: 0.9009\n",
      "Epoch 9/20\n",
      "184/184 [==============================] - 0s 566us/step - loss: 0.2084 - accuracy: 0.9139\n",
      "Epoch 10/20\n",
      "184/184 [==============================] - 0s 560us/step - loss: 0.2043 - accuracy: 0.9183\n",
      "Epoch 11/20\n",
      "184/184 [==============================] - 0s 571us/step - loss: 0.1902 - accuracy: 0.9237\n",
      "Epoch 12/20\n",
      "184/184 [==============================] - 0s 577us/step - loss: 0.1735 - accuracy: 0.9259\n",
      "Epoch 13/20\n",
      "184/184 [==============================] - 0s 566us/step - loss: 0.1699 - accuracy: 0.9281\n",
      "Epoch 14/20\n",
      "184/184 [==============================] - 0s 566us/step - loss: 0.1581 - accuracy: 0.9379\n",
      "Epoch 15/20\n",
      "184/184 [==============================] - 0s 577us/step - loss: 0.1438 - accuracy: 0.9466\n",
      "Epoch 16/20\n",
      "184/184 [==============================] - 0s 577us/step - loss: 0.1343 - accuracy: 0.9455\n",
      "Epoch 17/20\n",
      "184/184 [==============================] - 0s 577us/step - loss: 0.1237 - accuracy: 0.9542\n",
      "Epoch 18/20\n",
      "184/184 [==============================] - 0s 587us/step - loss: 0.1232 - accuracy: 0.9575\n",
      "Epoch 19/20\n",
      "184/184 [==============================] - 0s 571us/step - loss: 0.1039 - accuracy: 0.9662\n",
      "Epoch 20/20\n",
      "184/184 [==============================] - 0s 587us/step - loss: 0.1001 - accuracy: 0.9630\n"
     ]
    },
    {
     "data": {
      "text/plain": [
       "<tensorflow.python.keras.callbacks.History at 0x233e2ca4430>"
      ]
     },
     "execution_count": 25,
     "metadata": {},
     "output_type": "execute_result"
    }
   ],
   "source": [
    "model.fit(train_data, epochs=20)"
   ]
  },
  {
   "cell_type": "code",
   "execution_count": 26,
   "id": "dee7e5c4",
   "metadata": {},
   "outputs": [
    {
     "name": "stdout",
     "output_type": "stream",
     "text": [
      "WARNING:tensorflow:Layers in a Sequential model should only have a single input tensor, but we receive a <class 'collections.OrderedDict'> input: OrderedDict([('Sex', <tf.Tensor 'ExpandDims_4:0' shape=(None, 1) dtype=string>), ('ChestPainType', <tf.Tensor 'ExpandDims:0' shape=(None, 1) dtype=string>), ('RestingECG', <tf.Tensor 'ExpandDims_2:0' shape=(None, 1) dtype=string>), ('ExerciseAngina', <tf.Tensor 'ExpandDims_1:0' shape=(None, 1) dtype=string>), ('ST_Slope', <tf.Tensor 'ExpandDims_3:0' shape=(None, 1) dtype=string>), ('numeric', <tf.Tensor 'IteratorGetNext:5' shape=(None, 6) dtype=float32>)])\n",
      "Consider rewriting this model with the Functional API.\n",
      "184/184 [==============================] - 0s 479us/step - loss: 0.0936 - accuracy: 0.9651\n"
     ]
    }
   ],
   "source": [
    "test_loss, test_accuracy = model.evaluate(test_data)"
   ]
  },
  {
   "cell_type": "code",
   "execution_count": 30,
   "id": "77f6a156",
   "metadata": {},
   "outputs": [
    {
     "name": "stdout",
     "output_type": "stream",
     "text": [
      "Predicted chance of having a Heart Disease: 20.97%  | Actual outcome:  Has a Heart Disease\n",
      "Predicted chance of having a Heart Disease: 100.00%  | Actual outcome:  Has a Heart Disease\n",
      "Predicted chance of having a Heart Disease: 24.73%  | Actual outcome:  Has a Heart Disease\n",
      "Predicted chance of having a Heart Disease: 0.01%  | Actual outcome:  Has no Heart Disease\n",
      "Predicted chance of having a Heart Disease: 99.88%  | Actual outcome:  Has no Heart Disease\n"
     ]
    }
   ],
   "source": [
    "predictions = model.predict(test_data)\n",
    "\n",
    "# Show some results\n",
    "for prediction, HD in zip(predictions[:10], list(test_data)[0][1][:10]):\n",
    "    prediction = tf.sigmoid(prediction).numpy()\n",
    "    print(\"Predicted chance of having a Heart Disease: {:.2%}\".format(prediction[0]),\" | Actual outcome: \",\n",
    "          (\"Has a Heart Disease\" if bool(HD) else \"Has no Heart Disease\"))\n"
   ]
  }
 ],
 "metadata": {
  "kernelspec": {
   "display_name": "Python 3 (ipykernel)",
   "language": "python",
   "name": "python3"
  },
  "language_info": {
   "codemirror_mode": {
    "name": "ipython",
    "version": 3
   },
   "file_extension": ".py",
   "mimetype": "text/x-python",
   "name": "python",
   "nbconvert_exporter": "python",
   "pygments_lexer": "ipython3",
   "version": "3.8.5"
  }
 },
 "nbformat": 4,
 "nbformat_minor": 5
}
